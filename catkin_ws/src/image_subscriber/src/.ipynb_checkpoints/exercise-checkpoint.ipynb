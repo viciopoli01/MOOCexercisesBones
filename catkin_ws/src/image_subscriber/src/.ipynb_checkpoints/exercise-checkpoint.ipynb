{
 "cells": [
  {
   "cell_type": "markdown",
   "metadata": {},
   "source": [
    "# TITLE\n",
    "\n",
    "Some notes on the topic of the exercise <br><br>\n",
    "\n",
    "\n",
    "Link to the videos related to the exercise <br>\n",
    "\n"
   ]
  },
  {
   "cell_type": "markdown",
   "metadata": {},
   "source": [
    "### Task 1\n",
    "<br>\n",
    "Story of the exercise ... What is the goal? ...\n",
    "\n",
    "### Task 2\n",
    "<br>\n",
    "Story of the exercise ... What is the goal? ...\n",
    "\n",
    "<br>\n",
    "...\n",
    "\n",
    "### Task N"
   ]
  },
  {
   "cell_type": "code",
   "execution_count": null,
   "metadata": {},
   "outputs": [],
   "source": [
    "#\n",
    "#   import libraries\n",
    "#\n",
    "import cv2\n",
    "import numpy as np\n",
    "from matplotlib import pyplot as plt"
   ]
  },
  {
   "cell_type": "code",
   "execution_count": null,
   "metadata": {},
   "outputs": [],
   "source": [
    "#\n",
    "#   Function/Class the student needs to write\n",
    "#\n",
    "\n",
    "#\n",
    "# WARING: Do not change the name of the function\n",
    "#\n",
    "# You can define all the other functions you need\n",
    "#\n",
    "def sum(a,b):\n",
    "    '''\n",
    "    This function must return a number\n",
    "    '''\n",
    "    print(a+b)\n",
    "    return a+b\n",
    "\n",
    "class SumClass:\n",
    "    def __init__(self,a,b):\n",
    "        '''\n",
    "        This class does something...\n",
    "        '''\n"
   ]
  },
  {
   "cell_type": "markdown",
   "metadata": {},
   "source": [
    "# Local Evaluations:\n",
    " Here you can test the function/class you created\n",
    "<br>\n",
    "<br>\n",
    "\n",
    " <span style=\"color:red\">WARNING</span>: do not change the code below."
   ]
  },
  {
   "cell_type": "markdown",
   "metadata": {},
   "source": [
    "### Local evaluation Task 1"
   ]
  },
  {
   "cell_type": "code",
   "execution_count": null,
   "metadata": {},
   "outputs": [],
   "source": [
    "#\n",
    "#   Some Code to evaluate the task 1\n",
    "#\n",
    "\n"
   ]
  },
  {
   "cell_type": "markdown",
   "metadata": {},
   "source": [
    "### Local evaluation Task 2"
   ]
  }
 ],
 "metadata": {
  "kernelspec": {
   "display_name": "Python 3",
   "language": "python",
   "name": "python3"
  },
  "language_info": {
   "codemirror_mode": {
    "name": "ipython",
    "version": 3
   },
   "file_extension": ".py",
   "mimetype": "text/x-python",
   "name": "python",
   "nbconvert_exporter": "python",
   "pygments_lexer": "ipython3",
   "version": "3.8.2"
  }
 },
 "nbformat": 4,
 "nbformat_minor": 2
}
