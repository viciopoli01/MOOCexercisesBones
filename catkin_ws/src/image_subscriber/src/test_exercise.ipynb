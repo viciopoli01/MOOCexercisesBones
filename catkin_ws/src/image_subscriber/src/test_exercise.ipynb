{
 "cells": [
  {
   "cell_type": "markdown",
   "metadata": {},
   "source": [
    "# TITLE\n",
    "\n",
    "Some notes on the topic of the exercise <br><br>\n",
    "\n",
    "\n",
    "Link to the videos related to the exercise <br>\n",
    "\n"
   ]
  },
  {
   "cell_type": "markdown",
   "metadata": {},
   "source": [
    "### Task 1\n",
    "<br>\n",
    "Story of the exercise ... What is the goal? ...\n",
    "\n",
    "### Task 2\n",
    "<br>\n",
    "Story of the exercise ... What is the goal? ...\n",
    "\n",
    "<br>\n",
    "...\n",
    "\n",
    "### Task N"
   ]
  },
  {
   "cell_type": "code",
   "execution_count": 1,
   "metadata": {},
   "outputs": [],
   "source": [
    "#\n",
    "#   import libraries\n",
    "#\n",
    "import cv2\n",
    "import numpy as np\n",
    "from matplotlib import pyplot as plt"
   ]
  },
  {
   "cell_type": "code",
   "execution_count": 2,
   "metadata": {},
   "outputs": [],
   "source": [
    "def ourCanny(input_image, lowThreshold, highThreshold):\n",
    "    #example\n",
    "    return cv2.Canny(input_image, lowThreshold, highThreshold)"
   ]
  },
  {
   "cell_type": "markdown",
   "metadata": {},
   "source": [
    "# Local Evaluations:\n",
    " Here you can test the function/class you created\n",
    "<br>\n",
    "<br>\n",
    "\n",
    " <span style=\"color:red\">WARNING</span>: do not change the code below."
   ]
  },
  {
   "cell_type": "markdown",
   "metadata": {},
   "source": [
    "### Local evaluation Task 1"
   ]
  },
  {
   "cell_type": "code",
   "execution_count": 3,
   "metadata": {},
   "outputs": [
    {
     "data": {
      "image/png": "[encoded data removed]",
      "text/plain": [
       "<Figure size 432x288 with 2 Axes>"
      ]
     },
     "metadata": {},
     "output_type": "display_data"
    }
   ],
   "source": [
    "#\n",
    "#   Some Code to evaluate the task 1\n",
    "#\n",
    "\n",
    "file_path = './../chessboard.png'\n",
    "image_original = cv2.imread(file_path,cv2.IMREAD_UNCHANGED)\n",
    "\n",
    "lowThreshold = 75\n",
    "highThreshold = 150\n",
    "\n",
    "output = ourCanny(image_original, lowThreshold, highThreshold)\n",
    "\n",
    "plt.subplot(121),plt.imshow(cv2.cvtColor(image_original, cv2.COLOR_BGR2RGB),cmap = 'gray')\n",
    "plt.title('Original Image'), plt.xticks([]), plt.yticks([])\n",
    "plt.subplot(122),plt.imshow(output,cmap = 'gray')\n",
    "plt.title('Cv2 Canny'), plt.xticks([]), plt.yticks([])\n",
    "\n",
    "plt.show()"
   ]
  },
  {
   "cell_type": "code",
   "execution_count": null,
   "metadata": {},
   "outputs": [],
   "source": []
  }
 ],
 "metadata": {
  "kernelspec": {
   "display_name": "Python 3",
   "language": "python",
   "name": "python3"
  },
  "language_info": {
   "codemirror_mode": {
    "name": "ipython",
    "version": 3
   },
   "file_extension": ".py",
   "mimetype": "text/x-python",
   "name": "python",
   "nbconvert_exporter": "python",
   "pygments_lexer": "ipython3",
   "version": "3.8.2"
  }
 },
 "nbformat": 4,
 "nbformat_minor": 2
}
